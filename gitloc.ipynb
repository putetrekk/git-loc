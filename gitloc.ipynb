{
 "cells": [
  {
   "cell_type": "code",
   "execution_count": null,
   "metadata": {},
   "outputs": [],
   "source": [
    "from gitloc import get_commits\n",
    "import pandas as pd\n",
    "import matplotlib.pyplot as plt\n",
    "import seaborn as sns\n",
    "\n",
    "plt.rcParams['figure.dpi'] = 300\n",
    "\n",
    "commits = get_commits()\n",
    "commits = get_commits(\"../my-favorite-repo\")\n",
    "\n",
    "df = pd.DataFrame(commits).set_index('date')\n",
    "df[\"net\"] = df[\"adds\"] - df[\"deletes\"]\n",
    "df[\"locs\"] = df[\"net\"].cumsum()\n",
    "sns.scatterplot(df[\"net\"], s=2)\n",
    "sns.lineplot(df[\"locs\"])\n"
   ]
  }
 ],
 "metadata": {
  "kernelspec": {
   "display_name": ".venv",
   "language": "python",
   "name": "python3"
  },
  "language_info": {
   "codemirror_mode": {
    "name": "ipython",
    "version": 3
   },
   "file_extension": ".py",
   "mimetype": "text/x-python",
   "name": "python",
   "nbconvert_exporter": "python",
   "pygments_lexer": "ipython3",
   "version": "3.10.6"
  },
  "orig_nbformat": 4,
  "vscode": {
   "interpreter": {
    "hash": "e82f5308188f98c53982c984078655792dd6a4f999668154fb6e70ad16daeb15"
   }
  }
 },
 "nbformat": 4,
 "nbformat_minor": 2
}
