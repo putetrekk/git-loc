{
 "cells": [
  {
   "cell_type": "code",
   "execution_count": null,
   "metadata": {},
   "outputs": [],
   "source": [
    "from gitloc import get_commits\n",
    "import pandas as pd\n",
    "import matplotlib.pyplot as plt\n",
    "import seaborn as sns\n",
    "\n",
    "plt.rcParams['figure.dpi'] = 200\n",
    "plt.rcParams['figure.figsize'] = (15,5)\n",
    "\n",
    "# Specify a repo (or remove string parameter to visualise this repo)\n",
    "commits = get_commits(\"../my-favorite-repo\")"
   ]
  },
  {
   "cell_type": "code",
   "execution_count": null,
   "metadata": {},
   "outputs": [],
   "source": [
    "import numpy as np\n",
    "\n",
    "df = pd.DataFrame(commits).set_index(\"date\")\n",
    "\n",
    "df[\"net\"] = df[\"adds\"] - df[\"deletes\"]\n",
    "df[\"locs\"] = df[\"net\"].cumsum()\n",
    "\n",
    "start_date = df.index.min()\n",
    "end_date = df.index.max()\n",
    "#start_date = \"2022-06-01\"\n",
    "#end_date = \"2023-01-01\"\n",
    "\n",
    "timespan = end_date - start_date\n",
    "\n",
    "scale, date_format = \"W-MON\", \"%Y-%m-%d\"\n",
    "if timespan >= pd.Timedelta(days=365):\n",
    "    scale, date_format = \"MS\", \"%Y-%m\"\n",
    "if timespan >= pd.Timedelta(days=1000):\n",
    "    scale, date_format = \"YS\", \"%Y\"\n",
    "\n",
    "df = df.loc[start_date:end_date]\n",
    "\n",
    "df\n"
   ]
  },
  {
   "cell_type": "code",
   "execution_count": null,
   "metadata": {},
   "outputs": [],
   "source": [
    "p = sns.lineplot(df[\"locs\"], drawstyle='steps-post')\n",
    "dates = list(pd.date_range(start=start_date, end=end_date, freq=scale).to_pydatetime())\n",
    "xticklabels = [date.strftime(date_format) for date in dates]\n",
    "plt.xticks(dates, xticklabels, rotation=45)\n",
    "p.set_ylim(0, df[\"locs\"].max() * 1.1)\n",
    "p.grid()\n",
    "p.set_ylabel(\"total lines of code\")\n",
    "p"
   ]
  },
  {
   "cell_type": "code",
   "execution_count": null,
   "metadata": {},
   "outputs": [],
   "source": [
    "df_frequency = pd.DataFrame({\"commits\": [1] * len(df)}, index=df.index)\n",
    "df_frequency = df_frequency.resample(scale).count()\n",
    "df_frequency.index = df_frequency.index.strftime(date_format)\n",
    "p = sns.barplot(x=df_frequency.index, y=\"commits\", data=df_frequency)\n",
    "plt.xticks(rotation=45)\n",
    "p.grid()\n",
    "p"
   ]
  },
  {
   "cell_type": "code",
   "execution_count": null,
   "metadata": {},
   "outputs": [],
   "source": [
    "df_changes = df[['adds', 'deletes']]\n",
    "df_changes[\"deletes\"] = -df_changes[\"deletes\"]\n",
    "df_changes = df_changes.resample(scale).sum()\n",
    "df_changes.index = df_changes.index.strftime(date_format)\n",
    "p = sns.barplot(x=df_changes.index, y=\"adds\", data=df_changes)\n",
    "p = sns.barplot(x=df_changes.index, y=\"deletes\", data=df_changes)\n",
    "plt.xticks(rotation=45)\n",
    "p.set_ylabel(\"lines changed\")\n",
    "p.grid()\n",
    "p"
   ]
  }
 ],
 "metadata": {
  "kernelspec": {
   "display_name": ".venv",
   "language": "python",
   "name": "python3"
  },
  "language_info": {
   "codemirror_mode": {
    "name": "ipython",
    "version": 3
   },
   "file_extension": ".py",
   "mimetype": "text/x-python",
   "name": "python",
   "nbconvert_exporter": "python",
   "pygments_lexer": "ipython3",
   "version": "3.10.6"
  },
  "orig_nbformat": 4,
  "vscode": {
   "interpreter": {
    "hash": "e82f5308188f98c53982c984078655792dd6a4f999668154fb6e70ad16daeb15"
   }
  }
 },
 "nbformat": 4,
 "nbformat_minor": 2
}
